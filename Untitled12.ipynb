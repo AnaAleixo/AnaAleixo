{
  "nbformat": 4,
  "nbformat_minor": 0,
  "metadata": {
    "colab": {
      "provenance": [],
      "mount_file_id": "1YigZuTqE7feyA4uFRqr0FaC--MJHSHvh",
      "authorship_tag": "ABX9TyMVzQYlH9d9gsGYfwdXBYx0",
      "include_colab_link": true
    },
    "kernelspec": {
      "name": "python3",
      "display_name": "Python 3"
    },
    "language_info": {
      "name": "python"
    }
  },
  "cells": [
    {
      "cell_type": "markdown",
      "metadata": {
        "id": "view-in-github",
        "colab_type": "text"
      },
      "source": [
        "<a href=\"https://colab.research.google.com/github/AnaAleixo/AnaAleixo/blob/main/Untitled12.ipynb\" target=\"_parent\"><img src=\"https://colab.research.google.com/assets/colab-badge.svg\" alt=\"Open In Colab\"/></a>"
      ]
    },
    {
      "cell_type": "markdown",
      "source": [
        "#Descrição da atividade: Produza um mapa conceitual a partir dos conceitos de “pólis”, “civitas”, “génos”, “nomos”, “otium” e “negotium”, “metrópole”, “cidade-território” e “cidades inteligentes e sustentáveis”. "
      ],
      "metadata": {
        "id": "yXL50mceWes8"
      }
    },
    {
      "cell_type": "code",
      "source": [
        "import graphviz\n",
        "\n",
        "# Criar um objeto do tipo Digraph\n",
        "dot = graphviz.Digraph()\n",
        "\n",
        "# Adicionar os nós (conceitos)\n",
        "dot.node('pólis', label='Pólis')\n",
        "dot.node('civitas', label='Civitas')\n",
        "dot.node('génos', label='Génos')\n",
        "dot.node('nomos', label='Nomos')\n",
        "dot.node('otium', label='Otium')\n",
        "dot.node('negotium', label='Negotium')\n",
        "dot.node('metrópole', label='Metrópole')\n",
        "dot.node('cidade-território', label='Cidade-território')\n",
        "dot.node('cidades-inteligentes-sustentáveis', label='Cidades inteligentes e sustentáveis')\n",
        "\n",
        "# Adicionar as conexões entre os nós\n",
        "dot.edge('pólis', 'civitas')\n",
        "dot.edge('pólis', 'génos')\n",
        "dot.edge('pólis', 'nomos')\n",
        "dot.edge('pólis', 'otium')\n",
        "dot.edge('pólis', 'negotium')\n",
        "dot.edge('metrópole', 'cidade-território')\n",
        "dot.edge('cidade-território', 'cidades-inteligentes-sustentáveis')\n",
        "\n",
        "# Salvar o mapa conceitual em um arquivo PDF\n",
        "dot.render('mapa_conceitual', format='pdf')\n"
      ],
      "metadata": {
        "colab": {
          "base_uri": "https://localhost:8080/",
          "height": 35
        },
        "id": "FaEvh-ctWfe-",
        "outputId": "e52390ec-f772-424a-fe74-8788da048d0b"
      },
      "execution_count": 1,
      "outputs": [
        {
          "output_type": "execute_result",
          "data": {
            "text/plain": [
              "'mapa_conceitual.pdf'"
            ],
            "application/vnd.google.colaboratory.intrinsic+json": {
              "type": "string"
            }
          },
          "metadata": {},
          "execution_count": 1
        }
      ]
    },
    {
      "cell_type": "code",
      "source": [
        "import graphviz\n",
        "\n",
        "# Criar um objeto do tipo Digraph\n",
        "dot = graphviz.Digraph()\n",
        "\n",
        "# Adicionar os nós (conceitos) com cores personalizadas\n",
        "dot.node('pólis', label='Pólis', color='blue', style='filled', fillcolor='lightblue')\n",
        "dot.node('civitas', label='Civitas', color='red', style='filled', fillcolor='pink')\n",
        "dot.node('génos', label='Génos', color='green', style='filled', fillcolor='lightgreen')\n",
        "dot.node('nomos', label='Nomos', color='purple', style='filled', fillcolor='lavender')\n",
        "dot.node('otium', label='Otium', color='orange', style='filled', fillcolor='lightyellow')\n",
        "dot.node('negotium', label='Negotium', color='brown', style='filled', fillcolor='khaki')\n",
        "dot.node('metrópole', label='Metrópole', color='black', style='filled', fillcolor='lightgrey')\n",
        "dot.node('cidade-território', label='Cidade-território', color='grey', style='filled', fillcolor='silver')\n",
        "dot.node('cidades-inteligentes-sustentáveis', label='Cidades inteligentes e sustentáveis', color='gold', style='filled', fillcolor='wheat')\n",
        "\n",
        "# Adicionar as conexões entre os nós com cores personalizadas\n",
        "dot.edge('pólis', 'civitas', color='red', style='bold')\n",
        "dot.edge('pólis', 'génos', color='green', style='bold')\n",
        "dot.edge('pólis', 'nomos', color='purple', style='bold')\n",
        "dot.edge('pólis', 'otium', color='orange', style='bold')\n",
        "dot.edge('pólis', 'negotium', color='brown', style='bold')\n",
        "dot.edge('metrópole', 'cidade-território', color='grey', style='dashed')\n",
        "dot.edge('cidade-território', 'cidades-inteligentes-sustentáveis', color='gold', style='dotted')\n",
        "\n",
        "# Salvar o mapa conceitual em um arquivo PDF\n",
        "dot.render('mapa_conceitual_colorido', format='pdf')\n"
      ],
      "metadata": {
        "colab": {
          "base_uri": "https://localhost:8080/",
          "height": 35
        },
        "id": "SvuPCvgxWfh7",
        "outputId": "facd3bea-bb78-4566-ad75-b1d5f42f7853"
      },
      "execution_count": 3,
      "outputs": [
        {
          "output_type": "execute_result",
          "data": {
            "text/plain": [
              "'mapa_conceitual_colorido.pdf'"
            ],
            "application/vnd.google.colaboratory.intrinsic+json": {
              "type": "string"
            }
          },
          "metadata": {},
          "execution_count": 3
        }
      ]
    },
    {
      "cell_type": "code",
      "source": [],
      "metadata": {
        "id": "KofZ_uhXWfkp"
      },
      "execution_count": null,
      "outputs": []
    },
    {
      "cell_type": "code",
      "source": [
        "from graphviz import Digraph\n",
        "\n",
        "dot = Digraph(comment='Mapa Conceitual')\n",
        "\n",
        "# Definições dos nós\n",
        "dot.node('polis', label='<f0> Pólis <br/> <font color=\"grey\" face=\"italic\"> (cidade-Estado grega) </font>|<f1> Definição: <br/> Cidade-Estado da Grécia antiga, caracterizada pela autonomia política, organização em torno de uma ágora e cidadania restrita. |<f2> Exemplos: <br/> Atenas, Esparta')\n",
        "\n",
        "dot.node('civitas', label='<f0> Civitas <br/> <font color=\"grey\" face=\"italic\"> (cidade romana) </font>|<f1> Definição: <br/> Cidade romana, caracterizada pelo direito de cidadania e organização política baseada no Senado e nos magistrados. |<f2> Exemplos: <br/> Roma, Pompeia')\n",
        "\n",
        "dot.node('genos', label='<f0> Génos <br/> <font color=\"grey\" face=\"italic\"> (clã) </font>|<f1> Definição: <br/> Unidade de organização social e política das antigas comunidades gregas, baseada em laços de parentesco e hierarquia. |<f2> Exemplos: <br/> Clãs de Atenas, Clãs de Esparta')\n",
        "\n",
        "dot.node('nomos', label='<f0> Nomos <br/> <font color=\"grey\" face=\"italic\"> (lei) </font>|<f1> Definição: <br/> Conjunto de leis e normas que regulavam a vida das antigas comunidades gregas e romanas. |<f2> Exemplos: <br/> Código de Hamurabi, Leis das Doze Tábuas')\n",
        "\n",
        "dot.node('otium', label='<f0> Otium <br/> <font color=\"grey\" face=\"italic\"> (ociosidade) </font>|<f1> Definição: <br/> Tempo livre dedicado às atividades intelectuais, artísticas e espirituais na Roma antiga. |<f2> Exemplos: <br/> Filosofia, Pintura, Literatura')\n",
        "\n",
        "dot.node('negotium', label='<f0> Negotium <br/> <font color=\"grey\" face=\"italic\"> (negócios) </font>|<f1> Definição: <br/> Atividades produtivas ou comerciais. |<f2> Exemplos: <br/> Comércio na Grécia Antiga, Mercadores romanos')\n",
        "\n",
        "dot.node('metro', label='<f0> Metrópole <br/> <font color=\"grey\" face=\"italic\"> (cidade-mãe) </font>|<f1> Definição: <br/> Cidade principal ou capital de um Estado, região ou província. |<f2> Exemplos: <br/> São Paulo, Rio de Janeiro')\n",
        "\n",
        "dot.node('cidade_territorio', label='<f0> Cidade-Território <br/> <font color=\"grey\" face=\"italic\"> (cidade-estado) </font>|<f1> Definição: <br/> Cidade que é também um estado independente, com autonomia política e organização territorial. |<f2> Exemplo:')\n",
        "\n",
        "dot.render('mapa_conceitual', format='pdf')\n"
      ],
      "metadata": {
        "colab": {
          "base_uri": "https://localhost:8080/",
          "height": 35
        },
        "id": "-WNnxnEWWfqL",
        "outputId": "1ed52154-3213-43a1-d431-160ae560a4fb"
      },
      "execution_count": 6,
      "outputs": [
        {
          "output_type": "execute_result",
          "data": {
            "text/plain": [
              "'mapa_conceitual.pdf'"
            ],
            "application/vnd.google.colaboratory.intrinsic+json": {
              "type": "string"
            }
          },
          "metadata": {},
          "execution_count": 6
        }
      ]
    },
    {
      "cell_type": "code",
      "source": [],
      "metadata": {
        "id": "qLFGBb9yWftD"
      },
      "execution_count": null,
      "outputs": []
    },
    {
      "cell_type": "code",
      "source": [],
      "metadata": {
        "id": "aEJvl02tWfyJ"
      },
      "execution_count": null,
      "outputs": []
    },
    {
      "cell_type": "code",
      "source": [],
      "metadata": {
        "id": "8pMOq_x-Wf0u"
      },
      "execution_count": null,
      "outputs": []
    },
    {
      "cell_type": "code",
      "source": [],
      "metadata": {
        "id": "0EqmkjitWf4S"
      },
      "execution_count": null,
      "outputs": []
    },
    {
      "cell_type": "code",
      "source": [],
      "metadata": {
        "id": "vaR20P4KWf6o"
      },
      "execution_count": null,
      "outputs": []
    },
    {
      "cell_type": "code",
      "source": [],
      "metadata": {
        "id": "xNkpbcxXWf9n"
      },
      "execution_count": null,
      "outputs": []
    },
    {
      "cell_type": "code",
      "source": [],
      "metadata": {
        "id": "NY_NxmhqWf_z"
      },
      "execution_count": null,
      "outputs": []
    },
    {
      "cell_type": "code",
      "source": [
        "b"
      ],
      "metadata": {
        "id": "tp8FGfvpWgEq"
      },
      "execution_count": null,
      "outputs": []
    }
  ]
}