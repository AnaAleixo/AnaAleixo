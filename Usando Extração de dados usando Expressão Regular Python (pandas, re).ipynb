{
  "nbformat": 4,
  "nbformat_minor": 0,
  "metadata": {
    "colab": {
      "provenance": [],
      "mount_file_id": "1GgumUDOUA966oaQJhzmrCuy3SCXaa5b4",
      "authorship_tag": "ABX9TyO/igRsclvVj9Dr66P/h9ER",
      "include_colab_link": true
    },
    "kernelspec": {
      "name": "python3",
      "display_name": "Python 3"
    },
    "language_info": {
      "name": "python"
    }
  },
  "cells": [
    {
      "cell_type": "markdown",
      "metadata": {
        "id": "view-in-github",
        "colab_type": "text"
      },
      "source": [
        "<a href=\"https://colab.research.google.com/github/AnaAleixo/AnaAleixo/blob/main/Usando%20Extra%C3%A7%C3%A3o%20de%20dados%20usando%20Express%C3%A3o%20Regular%20Python%20(pandas%2C%20re).ipynb\" target=\"_parent\"><img src=\"https://colab.research.google.com/assets/colab-badge.svg\" alt=\"Open In Colab\"/></a>"
      ]
    },
    {
      "cell_type": "markdown",
      "source": [
        "#Extraindo dados de um PDF usando Exressão Regular no panas e RE- Python\n",
        "Emitidndo resultdo em:\n",
        "* NA TELA\n",
        "* PDF\n",
        "* CSV\n",
        "* PDF"
      ],
      "metadata": {
        "id": "sKaOqVf-UZmR"
      }
    },
    {
      "cell_type": "code",
      "source": [
        "import pandas as pd\n",
        "import re\n",
        "\n",
        "# Criando um DataFrame de exemplo\n",
        "data = {'Nome': ['João', 'Maria', 'José', 'Ana'],\n",
        "        'Idade': [25, 30, 20, 35],\n",
        "        'Email': ['joao@hotmail.com', 'maria-garcia@gmail.com', 'jose_pereira@yahoo.com', 'ana.silva@outlook.com']}\n",
        "\n",
        "df = pd.DataFrame(data)\n",
        "\n",
        "# Usando Expressão Regular para extrair o domínio dos e-mails\n",
        "dominios = []\n",
        "for email in df['Email']:\n",
        "    dominio = re.search(r'(?<=@)[^.]+(?:\\.[^.]+)+', email)\n",
        "    dominios.append(dominio.group(0))\n",
        "\n",
        "# Adicionando a coluna de Domínio no DataFrame\n",
        "df['Dominio'] = dominios\n",
        "\n",
        "# Exibindo o DataFrame resultante\n",
        "print(df)\n"
      ],
      "metadata": {
        "colab": {
          "base_uri": "https://localhost:8080/"
        },
        "id": "9d7e64j-Uama",
        "outputId": "b09bd208-7b83-4c79-8a9e-906ee554c24f"
      },
      "execution_count": 1,
      "outputs": [
        {
          "output_type": "stream",
          "name": "stdout",
          "text": [
            "    Nome  Idade                   Email      Dominio\n",
            "0   João     25        joao@hotmail.com  hotmail.com\n",
            "1  Maria     30  maria-garcia@gmail.com    gmail.com\n",
            "2   José     20  jose_pereira@yahoo.com    yahoo.com\n",
            "3    Ana     35   ana.silva@outlook.com  outlook.com\n"
          ]
        }
      ]
    },
    {
      "cell_type": "code",
      "source": [
        "!pip install PyPDF2"
      ],
      "metadata": {
        "colab": {
          "base_uri": "https://localhost:8080/"
        },
        "id": "ba7xW2FXUap4",
        "outputId": "cfe1bd00-7fe5-49a2-f304-86a309692be2"
      },
      "execution_count": 4,
      "outputs": [
        {
          "output_type": "stream",
          "name": "stdout",
          "text": [
            "Looking in indexes: https://pypi.org/simple, https://us-python.pkg.dev/colab-wheels/public/simple/\n",
            "Collecting PyPDF2\n",
            "  Downloading pypdf2-3.0.1-py3-none-any.whl (232 kB)\n",
            "\u001b[2K     \u001b[90m━━━━━━━━━━━━━━━━━━━━━━━━━━━━━━━━━━━━━━━\u001b[0m \u001b[32m232.6/232.6 kB\u001b[0m \u001b[31m4.9 MB/s\u001b[0m eta \u001b[36m0:00:00\u001b[0m\n",
            "\u001b[?25hRequirement already satisfied: typing_extensions>=3.10.0.0 in /usr/local/lib/python3.9/dist-packages (from PyPDF2) (4.5.0)\n",
            "Installing collected packages: PyPDF2\n",
            "Successfully installed PyPDF2-3.0.1\n"
          ]
        }
      ]
    },
    {
      "cell_type": "markdown",
      "source": [
        "\n",
        "# Extraindo dados do PDF\n",
        "\n"
      ],
      "metadata": {
        "id": "MFWub47DA4ps"
      }
    },
    {
      "cell_type": "code",
      "source": [
        "import PyPDF2\n",
        "import re\n",
        "import pandas as pd"
      ],
      "metadata": {
        "id": "tz4nNzO2Uatd"
      },
      "execution_count": 5,
      "outputs": []
    },
    {
      "cell_type": "code",
      "source": [
        "\n",
        "\n",
        "# Abre o arquivo PDF\n",
        "pdf_file = open('/content/pdf.pdf', 'rb')\n",
        "\n",
        "# Cria um objeto do tipo PyPDF2.PdfReader para ler o arquivo PDF\n",
        "pdf_reader = PyPDF2.PdfReader(pdf_file)\n",
        "\n",
        "# Extrai o texto do PDF e fecha o arquivo\n",
        "pdf_text = ''\n",
        "for page in pdf_reader.pages:\n",
        "    pdf_text += page.extract_text()\n",
        "pdf_file.close()\n",
        "\n",
        "# Define a expressão regular para extrair os dados\n",
        "regex = r'(?P<numero>\\d+), (?P<nome>[A-Za-z\\s]+), (?P<nota1>\\d+\\.\\d+), (?P<nota2>\\d+\\.\\d+), (?P<nota3>\\d+\\.\\d+)\\s*/'\n",
        "\n",
        "# Faz a busca dos dados na string do PDF usando a expressão regular\n",
        "matches = re.findall(regex, pdf_text)\n",
        "\n",
        "# Cria um DataFrame com os dados extraídos\n",
        "df = pd.DataFrame(matches, columns=['numero', 'nome', 'nota1', 'nota2', 'nota3'])\n",
        "\n",
        "# Converte as colunas de notas para float\n",
        "df['nota1'] = df['nota1'].astype(float)\n",
        "df['nota2'] = df['nota2'].astype(float)\n",
        "df['nota3'] = df['nota3'].astype(float)\n",
        "\n",
        "# Exibe o DataFrame\n",
        "print(df)\n"
      ],
      "metadata": {
        "colab": {
          "base_uri": "https://localhost:8080/"
        },
        "id": "_xxA3qAtUaw-",
        "outputId": "2b540151-67e5-4d13-83c2-d21e637d14e7"
      },
      "execution_count": 6,
      "outputs": [
        {
          "output_type": "stream",
          "name": "stdout",
          "text": [
            "       numero                                  nome  nota1  nota2  nota3\n",
            "0    10089355  Aarom Eleoter io Valentim de Santana    6.0   68.0   74.0\n",
            "1    10037021          Abdoral Nogueira \\nFernandes   11.0   44.0   55.0\n",
            "2    10075924                  Abel Carlos de Sousa   13.0   62.0   75.0\n",
            "3    10102014           Abel \\nCastello Branco Neto    6.0   52.0   58.0\n",
            "4    10060766           Abida Hellen Barros Pereira    4.0   36.0   40.0\n",
            "..        ...                                   ...    ...    ...    ...\n",
            "204  10021556            Albenes Cordeiro de Farias   14.0   80.0   94.0\n",
            "205  10107308             Alberico Augusto Ferreira    5.0   26.0   31.0\n",
            "206  10007132         Alberico Vicente dos \\nSantos    8.0   46.0   54.0\n",
            "207  10067765   Alberto \\nAnderson Romao dos Santos   13.0   76.0   89.0\n",
            "208  10023222                Alberto da Silva Brito    5.0   42.0   47.0\n",
            "\n",
            "[209 rows x 5 columns]\n"
          ]
        }
      ]
    },
    {
      "cell_type": "code",
      "source": [
        "!pip install fpdf"
      ],
      "metadata": {
        "colab": {
          "base_uri": "https://localhost:8080/"
        },
        "id": "qPuElgW1Ua0E",
        "outputId": "867990ad-d36f-4e7d-ab5a-ae14ff7d3f63"
      },
      "execution_count": 9,
      "outputs": [
        {
          "output_type": "stream",
          "name": "stdout",
          "text": [
            "Looking in indexes: https://pypi.org/simple, https://us-python.pkg.dev/colab-wheels/public/simple/\n",
            "Collecting fpdf\n",
            "  Downloading fpdf-1.7.2.tar.gz (39 kB)\n",
            "  Preparing metadata (setup.py) ... \u001b[?25l\u001b[?25hdone\n",
            "Building wheels for collected packages: fpdf\n",
            "  Building wheel for fpdf (setup.py) ... \u001b[?25l\u001b[?25hdone\n",
            "  Created wheel for fpdf: filename=fpdf-1.7.2-py2.py3-none-any.whl size=40719 sha256=8ac6617860faeae16130bde7446ac75a0c327c60f5aeff4b7ae1a5974e8517a4\n",
            "  Stored in directory: /root/.cache/pip/wheels/44/35/8b/86ce00cec7e4d13c5f189680ae0fa82f919bedc066c2cddae9\n",
            "Successfully built fpdf\n",
            "Installing collected packages: fpdf\n",
            "Successfully installed fpdf-1.7.2\n"
          ]
        }
      ]
    },
    {
      "cell_type": "code",
      "source": [
        "import PyPDF2\n",
        "import re\n",
        "import pandas as pd\n",
        "from fpdf import FPDF\n",
        "\n",
        "# Abre o arquivo PDF\n",
        "pdf_file = open('/content/pdf.pdf', 'rb')\n",
        "pdf_reader = PyPDF2.PdfReader(pdf_file)\n",
        "\n",
        "# Extrai o texto do PDF\n",
        "text = ''\n",
        "for page in pdf_reader.pages:\n",
        "    text += page.extract_text()\n",
        "\n",
        "# Define a expressão regular para extrair os dados\n",
        "regex = r'(\\d+),\\s+([^\\d]+),\\s+(\\d+\\.\\d+),\\s+(\\d+\\.\\d+),\\s+(\\d+\\.\\d+)'\n",
        "\n",
        "# Extrai os dados com base na expressão regular\n",
        "matches = re.findall(regex, text)\n",
        "\n",
        "# Cria um dataframe com os dados extraídos\n",
        "df = pd.DataFrame(matches, columns=['Inscrição', 'Nome', 'Nota 1', 'Nota 2', 'Nota 3'])\n",
        "\n",
        "# Converte as colunas de notas para números float\n",
        "df[['Nota 1', 'Nota 2', 'Nota 3']] = df[['Nota 1', 'Nota 2', 'Nota 3']].astype(float)\n",
        "\n",
        "# Calcula a média das notas\n",
        "df['Média'] = df[['Nota 1', 'Nota 2', 'Nota 3']].mean(axis=1)\n",
        "\n",
        "# Ordena o dataframe pela média\n",
        "df = df.sort_values('Média', ascending=False)\n",
        "\n",
        "# Cria um novo arquivo PDF com o resultado\n",
        "pdf = FPDF()\n",
        "pdf.add_page()\n",
        "pdf.set_font('Arial', 'B', 16)\n",
        "pdf.cell(0, 10, 'Resultado das notas', 0, 1)\n",
        "pdf.set_font('Arial', '', 12)\n",
        "for i, row in df.iterrows():\n",
        "    pdf.cell(0, 10, f'{row[\"Nome\"]}: {row[\"Média\"]:.2f}', 0, 1)\n",
        "pdf.output('resultado.pdf', 'F')\n"
      ],
      "metadata": {
        "colab": {
          "base_uri": "https://localhost:8080/",
          "height": 35
        },
        "id": "lIe9zvX-Ua3N",
        "outputId": "97867d01-e138-4351-fbe4-8614999dc8a0"
      },
      "execution_count": 10,
      "outputs": [
        {
          "output_type": "execute_result",
          "data": {
            "text/plain": [
              "''"
            ],
            "application/vnd.google.colaboratory.intrinsic+json": {
              "type": "string"
            }
          },
          "metadata": {},
          "execution_count": 10
        }
      ]
    },
    {
      "cell_type": "code",
      "source": [
        "!pip install PyMuPDF\n"
      ],
      "metadata": {
        "colab": {
          "base_uri": "https://localhost:8080/"
        },
        "id": "FlX9f8I6Ua9R",
        "outputId": "7b9e3fbd-cb8b-4940-d674-f17807d2bfd4"
      },
      "execution_count": 12,
      "outputs": [
        {
          "output_type": "stream",
          "name": "stdout",
          "text": [
            "Looking in indexes: https://pypi.org/simple, https://us-python.pkg.dev/colab-wheels/public/simple/\n",
            "Collecting PyMuPDF\n",
            "  Downloading PyMuPDF-1.22.1-cp39-cp39-manylinux_2_17_x86_64.manylinux2014_x86_64.whl (14.1 MB)\n",
            "\u001b[2K     \u001b[90m━━━━━━━━━━━━━━━━━━━━━━━━━━━━━━━━━━━━━━━━\u001b[0m \u001b[32m14.1/14.1 MB\u001b[0m \u001b[31m56.1 MB/s\u001b[0m eta \u001b[36m0:00:00\u001b[0m\n",
            "\u001b[?25hInstalling collected packages: PyMuPDF\n",
            "Successfully installed PyMuPDF-1.22.1\n"
          ]
        }
      ]
    },
    {
      "cell_type": "code",
      "source": [
        "!pip install PyPDF2"
      ],
      "metadata": {
        "colab": {
          "base_uri": "https://localhost:8080/"
        },
        "id": "CFBDZc0NUbHx",
        "outputId": "96944ab0-5319-49b9-a8ab-2043a68ba177"
      },
      "execution_count": 16,
      "outputs": [
        {
          "output_type": "stream",
          "name": "stdout",
          "text": [
            "Looking in indexes: https://pypi.org/simple, https://us-python.pkg.dev/colab-wheels/public/simple/\n",
            "Requirement already satisfied: PyPDF2 in /usr/local/lib/python3.9/dist-packages (3.0.1)\n",
            "Requirement already satisfied: typing_extensions>=3.10.0.0 in /usr/local/lib/python3.9/dist-packages (from PyPDF2) (4.5.0)\n"
          ]
        }
      ]
    },
    {
      "cell_type": "code",
      "source": [
        "import PyPDF2\n",
        "import re\n",
        "import pandas as pd\n",
        "\n",
        "with open('resultado.pdf', 'rb') as file:\n",
        "    # Lê o arquivo PDF\n",
        "    reader = PyPDF2.PdfReader(file)\n",
        "    # Extrai o texto do arquivo PDF\n",
        "    text = ''\n",
        "    for page in reader.pages:\n",
        "        text += page.extract_text()\n",
        "\n",
        "    # Extrai os dados de interesse usando expressões regulares\n",
        "    regex = r'Cargo/Área/Número de Inscrição:.*?(\\d{7}).*?Nome: (.*?)\\n.*?Prova.*?Geral: (\\d{2}).*?Específicos: (\\d{2}).*?Objetivas: (\\d{2}).*?Resultado: (\\d{2})'\n",
        "    matches = re.findall(regex, text, re.DOTALL)\n",
        "\n",
        "    # Cria um dataframe com os dados extraídos\n",
        "    df = pd.DataFrame(matches, columns=['num_inscricao', 'nome', 'nota_p1', 'nota_p2', 'nota_total'])\n",
        "\n",
        "    # Converte as notas para numérico\n",
        "    df['nota_p1'] = pd.to_numeric(df['nota_p1'])\n",
        "    df['nota_p2'] = pd.to_numeric(df['nota_p2'])\n",
        "    df['nota_total'] = pd.to_numeric(df['nota_total'])\n",
        "\n",
        "    # Ordena as colunas na ordem desejada\n",
        "    df = df[['num_inscricao', 'nome', 'nota_p1', 'nota_p2', 'nota_total']]\n",
        "\n",
        "    # Salva o resultado em um arquivo CSV\n",
        "    df.to_csv('resultado.csv', index=False)\n"
      ],
      "metadata": {
        "id": "PaJyWRWZUbNd"
      },
      "execution_count": 17,
      "outputs": []
    },
    {
      "cell_type": "code",
      "source": [
        "!pip install fpdf\n"
      ],
      "metadata": {
        "colab": {
          "base_uri": "https://localhost:8080/"
        },
        "id": "7TrRJ8QjUbnK",
        "outputId": "aaf9fefa-e8f2-4de0-a076-aaadb2ccde42"
      },
      "execution_count": 18,
      "outputs": [
        {
          "output_type": "stream",
          "name": "stdout",
          "text": [
            "Looking in indexes: https://pypi.org/simple, https://us-python.pkg.dev/colab-wheels/public/simple/\n",
            "Requirement already satisfied: fpdf in /usr/local/lib/python3.9/dist-packages (1.7.2)\n"
          ]
        }
      ]
    },
    {
      "cell_type": "code",
      "source": [
        "!pip install tabulate\n"
      ],
      "metadata": {
        "colab": {
          "base_uri": "https://localhost:8080/"
        },
        "id": "EjYio_uNUbq1",
        "outputId": "b811d68d-b072-4cf2-d77e-d87d51747a65"
      },
      "execution_count": 19,
      "outputs": [
        {
          "output_type": "stream",
          "name": "stdout",
          "text": [
            "Looking in indexes: https://pypi.org/simple, https://us-python.pkg.dev/colab-wheels/public/simple/\n",
            "Requirement already satisfied: tabulate in /usr/local/lib/python3.9/dist-packages (0.8.10)\n"
          ]
        }
      ]
    },
    {
      "cell_type": "code",
      "source": [
        "reader = PyPDF2.PdfFileReader(file)\n"
      ],
      "metadata": {
        "id": "1iacgbTFUbvz"
      },
      "execution_count": null,
      "outputs": []
    },
    {
      "cell_type": "code",
      "source": [
        "import PyPDF2\n",
        "import re\n",
        "import pandas as pd\n",
        "from fpdf import FPDF\n",
        "\n",
        "# Abre o arquivo PDF\n",
        "pdf_file = open('/content/pdf.pdf', 'rb')\n",
        "pdf_reader = PyPDF2.PdfReader(pdf_file)\n",
        "\n",
        "# Extrai o texto do PDF\n",
        "text = ''\n",
        "for page in pdf_reader.pages:\n",
        "    text += page.extract_text()\n",
        "\n",
        "# Define a expressão regular para extrair os dados\n",
        "regex = r'(\\d+),\\s+([^\\d]+),\\s+(\\d+\\.\\d+),\\s+(\\d+\\.\\d+),\\s+(\\d+\\.\\d+)'\n",
        "\n",
        "# Extrai os dados com base na expressão regular\n",
        "matches = re.findall(regex, text)\n",
        "\n",
        "# Cria um dataframe com os dados extraídos\n",
        "df = pd.DataFrame(matches, columns=['Inscrição', 'Nome', 'Nota 1', 'Nota 2', 'Nota 3'])\n",
        "\n",
        "# Converte as colunas de notas para números float\n",
        "df[['Nota 1', 'Nota 2', 'Nota 3']] = df[['Nota 1', 'Nota 2', 'Nota 3']].astype(float)\n",
        "\n",
        "# Calcula a média das notas\n",
        "df['Média'] = df[['Nota 1', 'Nota 2', 'Nota 3']].mean(axis=1)\n",
        "\n",
        "# Ordena o dataframe pela média\n",
        "df = df.sort_values('Média', ascending=False)\n",
        "\n",
        "# Cria um novo arquivo PDF com o resultado\n",
        "pdf = FPDF()\n",
        "pdf.add_page()\n",
        "pdf.set_font('Arial', 'B', 16)\n",
        "pdf.cell(0, 10, 'Resultado das notas', 0, 1)\n",
        "pdf.set_font('Arial', '', 12)\n",
        "for i, row in df.iterrows():\n",
        "    pdf.cell(0, 10, f'{row[\"Nome\"]}: {row[\"Nota 1\"]:.2f}, {row[\"Nota 2\"]:.2f}, {row[\"Nota 3\"]:.2f}', 0, 1)\n",
        "pdf.output('resultado.pdf', 'F')\n"
      ],
      "metadata": {
        "colab": {
          "base_uri": "https://localhost:8080/",
          "height": 35
        },
        "id": "MBn0jvRmUcLC",
        "outputId": "7e4282bc-7e89-40d7-d217-60ac35f4951d"
      },
      "execution_count": 29,
      "outputs": [
        {
          "output_type": "execute_result",
          "data": {
            "text/plain": [
              "''"
            ],
            "application/vnd.google.colaboratory.intrinsic+json": {
              "type": "string"
            }
          },
          "metadata": {},
          "execution_count": 29
        }
      ]
    },
    {
      "cell_type": "code",
      "source": [],
      "metadata": {
        "id": "KqLCm_l1UcNi"
      },
      "execution_count": null,
      "outputs": []
    },
    {
      "cell_type": "code",
      "source": [],
      "metadata": {
        "id": "Aed8rAQYUcQl"
      },
      "execution_count": null,
      "outputs": []
    },
    {
      "cell_type": "code",
      "source": [],
      "metadata": {
        "id": "bRHP7r8NUcTZ"
      },
      "execution_count": null,
      "outputs": []
    },
    {
      "cell_type": "code",
      "source": [],
      "metadata": {
        "id": "yKzpAHYeUcVg"
      },
      "execution_count": null,
      "outputs": []
    },
    {
      "cell_type": "code",
      "source": [],
      "metadata": {
        "id": "2W35KCBFUcX8"
      },
      "execution_count": null,
      "outputs": []
    }
  ]
}